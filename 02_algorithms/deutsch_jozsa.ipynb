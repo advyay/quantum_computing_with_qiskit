{
 "cells": [
  {
   "cell_type": "markdown",
   "id": "4ceddbe4",
   "metadata": {},
   "source": [
    "# Deutsch Jozsa"
   ]
  },
  {
   "cell_type": "code",
   "execution_count": null,
   "id": "209b4a5f",
   "metadata": {},
   "outputs": [],
   "source": [
    "# Code coming soon...\n"
   ]
  }
 ],
 "metadata": {},
 "nbformat": 4,
 "nbformat_minor": 5
}