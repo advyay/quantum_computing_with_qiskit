{
 "cells": [
  {
   "cell_type": "markdown",
   "id": "83346095",
   "metadata": {},
   "source": [
    "# Vqe Demo"
   ]
  },
  {
   "cell_type": "code",
   "execution_count": null,
   "id": "8027d1a2",
   "metadata": {},
   "outputs": [],
   "source": [
    "# Code coming soon...\n"
   ]
  }
 ],
 "metadata": {},
 "nbformat": 4,
 "nbformat_minor": 5
}