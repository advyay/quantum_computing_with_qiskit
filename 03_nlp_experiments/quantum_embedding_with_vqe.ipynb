{
 "cells": [
  {
   "cell_type": "markdown",
   "id": "f503126f",
   "metadata": {},
   "source": [
    "# Quantum Embedding With Vqe"
   ]
  },
  {
   "cell_type": "code",
   "execution_count": null,
   "id": "a7af2bbf",
   "metadata": {},
   "outputs": [],
   "source": [
    "# Code coming soon...\n"
   ]
  }
 ],
 "metadata": {},
 "nbformat": 4,
 "nbformat_minor": 5
}