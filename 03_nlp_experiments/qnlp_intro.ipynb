{
 "cells": [
  {
   "cell_type": "markdown",
   "id": "da6de23e",
   "metadata": {},
   "source": [
    "# Qnlp Intro"
   ]
  },
  {
   "cell_type": "code",
   "execution_count": null,
   "id": "8d59d543",
   "metadata": {},
   "outputs": [],
   "source": [
    "# Code coming soon...\n"
   ]
  }
 ],
 "metadata": {},
 "nbformat": 4,
 "nbformat_minor": 5
}