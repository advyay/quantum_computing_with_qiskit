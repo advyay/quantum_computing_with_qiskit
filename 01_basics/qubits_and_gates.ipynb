{
 "cells": [
  {
   "cell_type": "markdown",
   "id": "fb7aad62",
   "metadata": {},
   "source": [
    "# Qubits And Gates"
   ]
  },
  {
   "cell_type": "code",
   "execution_count": null,
   "id": "f1fe0a3a",
   "metadata": {},
   "outputs": [],
   "source": [
    "# Code coming soon...\n",
    "from qiskit import QuantumCircuit, Aer, execute\n",
    "qc = QuantumCircuit(1)\n",
    "qc.h(0)\n",
    "qc.measure_all()\n",
    "qc.draw('mpl')"
   ]
  }
 ],
 "metadata": {
  "language_info": {
   "name": "python"
  }
 },
 "nbformat": 4,
 "nbformat_minor": 5
}
