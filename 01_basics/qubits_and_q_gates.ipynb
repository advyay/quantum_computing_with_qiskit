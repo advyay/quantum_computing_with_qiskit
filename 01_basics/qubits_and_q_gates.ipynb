from qiskit import QuantumCircuit, Aer, execute
qc = QuantumCircuit(1)
qc.h(0)
qc.measure_all()
qc.draw('mpl')